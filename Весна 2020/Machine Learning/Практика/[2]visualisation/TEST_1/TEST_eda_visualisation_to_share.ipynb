{
 "cells": [
  {
   "cell_type": "markdown",
   "metadata": {},
   "source": [
    "# Тест [1] - EDA + visualisation\n",
    "\n",
    "Первый тест из двух, которые запланированны на этот курс. В этом тесте нужно будет самостоятельно выполнить первые два шага для решения задачи ML. Первый, довольно комплексный, скачать датасет и провести разведочный анализ данных. Второй - нарисовать несколько графиков и поработать с гипотезами.\n",
    "\n",
    "Датасет можно найти на kaggle.com или в репозитории UCI. Ссылка на [kaggle](https://www.kaggle.com/uciml/breast-cancer-wisconsin-data), ссылка на [UCI](https://archive.ics.uci.edu/ml/datasets/Breast+Cancer+Wisconsin+%28Diagnostic%29)\n",
    "\n",
    "После выполнения заданий нужно заполнить [форму](https://forms.gle/Xtbr5QZ5nHwRp3xF8), в которой отметить свои ответы, а свою тетрадку прислать мне в виде .pynb файла или ссылки (GitHub например) в личку ВКонтакте или в DM в Discord'e"
   ]
  },
  {
   "cell_type": "code",
   "execution_count": 3,
   "metadata": {},
   "outputs": [],
   "source": [
    "import pandas as pd\n",
    "import numpy as np\n",
    "\n",
    "import matplotlib.pyplot as plt\n",
    "import seaborn as sns\n",
    "%matplotlib inline"
   ]
  },
  {
   "cell_type": "code",
   "execution_count": 9,
   "metadata": {},
   "outputs": [],
   "source": [
    "# data = pd.read_csv"
   ]
  },
  {
   "cell_type": "markdown",
   "metadata": {},
   "source": [
    "__[1] Найдите id всех обьектов, у которых radius_mean больше 27__"
   ]
  },
  {
   "cell_type": "code",
   "execution_count": 10,
   "metadata": {},
   "outputs": [],
   "source": [
    "#Your code here"
   ]
  },
  {
   "cell_type": "markdown",
   "metadata": {},
   "source": [
    "__[2]С помощью регулярных выражений (regex) и функции pd.DataFrame.filter() из исходного датасета выберите только те признаки в которых содержится radius, area, texture, id и diagnosis и скопируйте их в новый датасет, с другим названием__"
   ]
  },
  {
   "cell_type": "code",
   "execution_count": 47,
   "metadata": {},
   "outputs": [],
   "source": [
    "#Your code here"
   ]
  },
  {
   "cell_type": "markdown",
   "metadata": {},
   "source": [
    "__[3] Гипотеза 1 - Действительно ли среднее значение параметра radius_mean для обьектов со злокачественной опухолью будет больше, чем для обьектов с доброкачественной ?__"
   ]
  },
  {
   "cell_type": "code",
   "execution_count": 12,
   "metadata": {},
   "outputs": [],
   "source": [
    "#Your code here"
   ]
  },
  {
   "cell_type": "markdown",
   "metadata": {},
   "source": [
    "__[4]Гипотеза 2 - Верно ли утверждение что, минимальное значение параметра radius_worst, для обьектов со злокачественной опухолью будет больше чем максимальное значение того же параметра для обьектов с доброкачественной опухолью ?__"
   ]
  },
  {
   "cell_type": "code",
   "execution_count": 13,
   "metadata": {},
   "outputs": [],
   "source": [
    "#Your code here"
   ]
  },
  {
   "cell_type": "markdown",
   "metadata": {},
   "source": [
    "__[5] Сколько обьектов имеют значение permiter_mean больше чем квантиль в 0.95 этого параметра ?__"
   ]
  },
  {
   "cell_type": "code",
   "execution_count": 14,
   "metadata": {
    "scrolled": true
   },
   "outputs": [],
   "source": [
    "#Your code here"
   ]
  },
  {
   "cell_type": "markdown",
   "metadata": {},
   "source": [
    "__[6] Теперь перейдем к построению графиков и диаграмм. Постройте график на котором будут отражены парные зависимости для всех параметров, чьи имена заканчиваются на mean, и видна разница между обьектами с diagnosis == M и diagnosis == B. Подсказка: стоит воспользоваться регулярными выражениями__"
   ]
  },
  {
   "cell_type": "code",
   "execution_count": 15,
   "metadata": {},
   "outputs": [],
   "source": [
    "#Your code here"
   ]
  },
  {
   "cell_type": "markdown",
   "metadata": {},
   "source": [
    "__[7] Необходимо построить 2 графика, которые наглядно проилюстрируют гипотезы 1 и 2. Так что бы человек сразу мог понять, подтверждаются они или нет__"
   ]
  },
  {
   "cell_type": "code",
   "execution_count": 16,
   "metadata": {},
   "outputs": [],
   "source": [
    "#Your code here"
   ]
  },
  {
   "cell_type": "markdown",
   "metadata": {},
   "source": [
    "__[8] Необходимо построить график на котором будут отражены средние значения по каждому параметру для обьектов с доброкачественной и недоброкачественной опоухолями, примерно такого вида <img src='pic.png'>__"
   ]
  },
  {
   "cell_type": "code",
   "execution_count": 11,
   "metadata": {},
   "outputs": [],
   "source": [
    "#Your code here"
   ]
  },
  {
   "cell_type": "markdown",
   "metadata": {},
   "source": [
    "После того как выполните все задания из теста, включая построение графиков,и заполните [форму](https://forms.gle/4SB7mWVTdJNyyFnPA) нужно будет прислать мне свою тетрадку с решениями. Это можно сделать через ВКонтакте, или на почту e.mailforshopping@yandex.ru"
   ]
  }
 ],
 "metadata": {
  "kernelspec": {
   "display_name": "Python 3",
   "language": "python",
   "name": "python3"
  },
  "language_info": {
   "codemirror_mode": {
    "name": "ipython",
    "version": 3
   },
   "file_extension": ".py",
   "mimetype": "text/x-python",
   "name": "python",
   "nbconvert_exporter": "python",
   "pygments_lexer": "ipython3",
   "version": "3.6.9"
  }
 },
 "nbformat": 4,
 "nbformat_minor": 2
}
